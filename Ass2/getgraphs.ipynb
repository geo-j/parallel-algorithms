{
 "cells": [
  {
   "cell_type": "code",
   "execution_count": 1,
   "id": "5c146b72",
   "metadata": {},
   "outputs": [],
   "source": [
    "import ssgetpy"
   ]
  },
  {
   "cell_type": "code",
   "execution_count": 2,
   "id": "b277825f",
   "metadata": {},
   "outputs": [],
   "source": [
    "undirected_graphs = ssgetpy.search(kind = \"undirected graph\")"
   ]
  },
  {
   "cell_type": "code",
   "execution_count": 3,
   "id": "04f7bf5d",
   "metadata": {},
   "outputs": [
    {
     "data": {
      "text/plain": [
       "('/home/freek/.ssgetpy/MM/Pajek/dictionary28.tar.gz',\n",
       " '/home/freek/.ssgetpy/MM/Pajek/dictionary28.tar.gz')"
      ]
     },
     "execution_count": 3,
     "metadata": {},
     "output_type": "execute_result"
    }
   ],
   "source": [
    "undirected_graphs[0].download()"
   ]
  },
  {
   "cell_type": "code",
   "execution_count": 4,
   "id": "eefc7f72",
   "metadata": {},
   "outputs": [
    {
     "data": {
      "text/plain": [
       "('/home/freek/.ssgetpy/MM/Mycielski/mycielskian2.tar.gz',\n",
       " '/home/freek/.ssgetpy/MM/Mycielski/mycielskian2.tar.gz')"
      ]
     },
     "execution_count": 4,
     "metadata": {},
     "output_type": "execute_result"
    }
   ],
   "source": [
    "ssgetpy.search(\"mycielskian2\")[0].download()"
   ]
  },
  {
   "cell_type": "code",
   "execution_count": null,
   "id": "d247b2fd",
   "metadata": {},
   "outputs": [],
   "source": []
  }
 ],
 "metadata": {
  "kernelspec": {
   "display_name": "Python 3 (ipykernel)",
   "language": "python",
   "name": "python3"
  },
  "language_info": {
   "codemirror_mode": {
    "name": "ipython",
    "version": 3
   },
   "file_extension": ".py",
   "mimetype": "text/x-python",
   "name": "python",
   "nbconvert_exporter": "python",
   "pygments_lexer": "ipython3",
   "version": "3.9.7"
  }
 },
 "nbformat": 4,
 "nbformat_minor": 5
}
